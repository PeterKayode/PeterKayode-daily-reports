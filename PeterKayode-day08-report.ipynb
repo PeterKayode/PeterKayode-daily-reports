{
 "cells": [
  {
   "cell_type": "markdown",
   "id": "bd310705-7470-418b-8cf0-b0a03f0819a4",
   "metadata": {},
   "source": [
    "## Recursion\n",
    "\n",
    "A fuction that calls itself to solve a problem by breaking it into sublem until a base case is reached is called a recursive function"
   ]
  },
  {
   "cell_type": "code",
   "execution_count": 1,
   "id": "6922ecd4-b417-4dec-ba3b-6a97c06f6a0a",
   "metadata": {},
   "outputs": [
    {
     "data": {
      "text/plain": [
       "120"
      ]
     },
     "execution_count": 1,
     "metadata": {},
     "output_type": "execute_result"
    }
   ],
   "source": [
    "def factorial(n):\n",
    "    if n == 0 or n ==1:\n",
    "        return 1\n",
    "    else:\n",
    "        return n * factorial(n-1)\n",
    "\n",
    "\n",
    "factorial(5)"
   ]
  },
  {
   "cell_type": "code",
   "execution_count": 14,
   "id": "fe690ff7-cc79-4ef9-ac77-a9904bfd2345",
   "metadata": {},
   "outputs": [
    {
     "data": {
      "text/plain": [
       "55"
      ]
     },
     "execution_count": 14,
     "metadata": {},
     "output_type": "execute_result"
    }
   ],
   "source": [
    "def fibo(n):\n",
    "    if n == 0:\n",
    "        return 0\n",
    "    elif n == 1:\n",
    "        return 1\n",
    "    else:\n",
    "        return fibo(n-1) + fibo(n-2)\n",
    "\n",
    "fibo(10)"
   ]
  },
  {
   "cell_type": "code",
   "execution_count": null,
   "id": "0384c514-328b-4371-a434-501aed978da4",
   "metadata": {},
   "outputs": [],
   "source": []
  },
  {
   "cell_type": "code",
   "execution_count": null,
   "id": "3644b2a1-5d06-47ee-839d-5e8366616f34",
   "metadata": {},
   "outputs": [],
   "source": []
  },
  {
   "cell_type": "code",
   "execution_count": null,
   "id": "5df26758-0105-47a9-90e7-60793c8e025f",
   "metadata": {},
   "outputs": [],
   "source": []
  },
  {
   "cell_type": "code",
   "execution_count": null,
   "id": "7662917d-4558-45be-ae5d-39b836c53d85",
   "metadata": {},
   "outputs": [],
   "source": []
  }
 ],
 "metadata": {
  "kernelspec": {
   "display_name": "Python 3 (ipykernel)",
   "language": "python",
   "name": "python3"
  },
  "language_info": {
   "codemirror_mode": {
    "name": "ipython",
    "version": 3
   },
   "file_extension": ".py",
   "mimetype": "text/x-python",
   "name": "python",
   "nbconvert_exporter": "python",
   "pygments_lexer": "ipython3",
   "version": "3.11.7"
  }
 },
 "nbformat": 4,
 "nbformat_minor": 5
}
