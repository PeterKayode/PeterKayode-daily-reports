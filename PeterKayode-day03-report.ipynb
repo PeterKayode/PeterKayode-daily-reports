{
 "cells": [
  {
   "cell_type": "markdown",
   "id": "f20689df-ed0f-4b32-ac47-324fc5ee4a22",
   "metadata": {},
   "source": [
    "### Strings and Files"
   ]
  },
  {
   "cell_type": "code",
   "execution_count": 1,
   "id": "bcbdac8a-516d-4145-bfc7-f92108a6719e",
   "metadata": {},
   "outputs": [],
   "source": [
    "string_1 = \"Will you be at the meeting tonight?\"\n",
    "\n",
    "string_2 = \"'Yes', he replied.\""
   ]
  },
  {
   "cell_type": "code",
   "execution_count": 2,
   "id": "98fa4118-e156-47d2-97eb-df77e90f79e9",
   "metadata": {},
   "outputs": [
    {
     "name": "stdout",
     "output_type": "stream",
     "text": [
      "Will you be at the meeting tonight?\n",
      "'Yes', he replied.\n"
     ]
    }
   ],
   "source": [
    "print(string_1)\n",
    "print(string_2)"
   ]
  },
  {
   "cell_type": "markdown",
   "id": "a361be2b-b145-4448-b8d2-9683e8a2eac8",
   "metadata": {},
   "source": [
    "### Indexing"
   ]
  },
  {
   "cell_type": "code",
   "execution_count": 3,
   "id": "b707c601-31a7-4c48-a122-dda4e0d08373",
   "metadata": {},
   "outputs": [
    {
     "data": {
      "text/plain": [
       "'W'"
      ]
     },
     "execution_count": 3,
     "metadata": {},
     "output_type": "execute_result"
    }
   ],
   "source": [
    "string_1[0]"
   ]
  },
  {
   "cell_type": "code",
   "execution_count": 4,
   "id": "e45c4a22-0fd1-424e-bfee-98a272c89c54",
   "metadata": {},
   "outputs": [
    {
     "data": {
      "text/plain": [
       "'l'"
      ]
     },
     "execution_count": 4,
     "metadata": {},
     "output_type": "execute_result"
    }
   ],
   "source": [
    "string_1[3]"
   ]
  },
  {
   "cell_type": "code",
   "execution_count": 5,
   "id": "12c09ab9-c8b3-4d07-affb-4ca8efb4e3d4",
   "metadata": {},
   "outputs": [
    {
     "name": "stdout",
     "output_type": "stream",
     "text": [
      "The sixth character of my string is  y\n"
     ]
    }
   ],
   "source": [
    "print(\"The sixth character of my string is \", string_1[5])"
   ]
  },
  {
   "cell_type": "code",
   "execution_count": 6,
   "id": "328fa74d-b550-4d59-8441-d5bf8d3675fa",
   "metadata": {},
   "outputs": [
    {
     "name": "stdout",
     "output_type": "stream",
     "text": [
      "The last character of my string is  ?\n"
     ]
    }
   ],
   "source": [
    "print(\"The last character of my string is \", string_1[-1])"
   ]
  },
  {
   "cell_type": "code",
   "execution_count": null,
   "id": "a9708796-433b-49e9-b614-1676bc70cc86",
   "metadata": {},
   "outputs": [],
   "source": []
  },
  {
   "cell_type": "markdown",
   "id": "928fda89-de26-449f-877c-3427e5aeee06",
   "metadata": {},
   "source": [
    "### Slicing\n",
    "\n",
    "```python\n",
    "string[start:stop:step]\n",
    "```"
   ]
  },
  {
   "cell_type": "code",
   "execution_count": 7,
   "id": "d7efb1c4-17e1-4c5f-a0be-1e9e3e622dd5",
   "metadata": {},
   "outputs": [
    {
     "name": "stdout",
     "output_type": "stream",
     "text": [
      "Will you be at the meeting tonight?\n"
     ]
    },
    {
     "data": {
      "text/plain": [
       "'l o'"
      ]
     },
     "execution_count": 7,
     "metadata": {},
     "output_type": "execute_result"
    }
   ],
   "source": [
    "print(string_1)\n",
    "\n",
    "string_1[2:8:2]"
   ]
  },
  {
   "cell_type": "code",
   "execution_count": 8,
   "id": "7bea0688-aa9f-4fa8-84c2-5e2ea1014e56",
   "metadata": {},
   "outputs": [
    {
     "data": {
      "text/plain": [
       "'ll you'"
      ]
     },
     "execution_count": 8,
     "metadata": {},
     "output_type": "execute_result"
    }
   ],
   "source": [
    "string_1[2:8:] # automatically takes the step as 1"
   ]
  },
  {
   "cell_type": "code",
   "execution_count": 9,
   "id": "3a437387-57ae-4eb1-bd68-0e99218bd86c",
   "metadata": {},
   "outputs": [
    {
     "data": {
      "text/plain": [
       "'ll you be at the meeting tonight?'"
      ]
     },
     "execution_count": 9,
     "metadata": {},
     "output_type": "execute_result"
    }
   ],
   "source": [
    "string_1[2::]"
   ]
  },
  {
   "cell_type": "code",
   "execution_count": 10,
   "id": "329d1943-e2a0-415b-8cd0-d59771bb6f09",
   "metadata": {},
   "outputs": [
    {
     "data": {
      "text/plain": [
       "'Will you be at the meeting tonight?'"
      ]
     },
     "execution_count": 10,
     "metadata": {},
     "output_type": "execute_result"
    }
   ],
   "source": [
    "string_1[::]"
   ]
  },
  {
   "cell_type": "code",
   "execution_count": 11,
   "id": "b02d7b11-641e-4cdb-b12c-e4f700f00875",
   "metadata": {},
   "outputs": [
    {
     "data": {
      "text/plain": [
       "18"
      ]
     },
     "execution_count": 11,
     "metadata": {},
     "output_type": "execute_result"
    }
   ],
   "source": [
    "len(string_2)"
   ]
  },
  {
   "cell_type": "code",
   "execution_count": null,
   "id": "637627d0-f43b-4a7e-82a9-41b0cfbeca6a",
   "metadata": {},
   "outputs": [],
   "source": []
  },
  {
   "cell_type": "markdown",
   "id": "12bdba8d-b6a2-4772-b47d-5c06c53cb2f0",
   "metadata": {},
   "source": [
    "### concatenation"
   ]
  },
  {
   "cell_type": "code",
   "execution_count": 12,
   "id": "11031fd3-92df-4a07-babb-7a2b52bf4e6d",
   "metadata": {},
   "outputs": [
    {
     "name": "stdout",
     "output_type": "stream",
     "text": [
      "Hello, World!\n"
     ]
    }
   ],
   "source": [
    "var_1 = \"Hello, \"\n",
    "var_2 = \"World!\"\n",
    "\n",
    "print(var_1 + var_2)"
   ]
  },
  {
   "cell_type": "code",
   "execution_count": 13,
   "id": "1c006ca1-31ba-43ca-9189-d0d1a448e520",
   "metadata": {},
   "outputs": [
    {
     "name": "stdout",
     "output_type": "stream",
     "text": [
      "World!Hello, \n"
     ]
    }
   ],
   "source": [
    "print(var_2 + var_1)"
   ]
  },
  {
   "cell_type": "code",
   "execution_count": 14,
   "id": "847231fd-2917-4560-856c-10dc768986f4",
   "metadata": {},
   "outputs": [
    {
     "name": "stdout",
     "output_type": "stream",
     "text": [
      "Hello, Hello, \n"
     ]
    }
   ],
   "source": [
    "print(2 * var_1)"
   ]
  },
  {
   "cell_type": "code",
   "execution_count": 15,
   "id": "4e8159cb-b73d-4544-9d52-f33a80569ae0",
   "metadata": {},
   "outputs": [
    {
     "ename": "TypeError",
     "evalue": "can't multiply sequence by non-int of type 'float'",
     "output_type": "error",
     "traceback": [
      "\u001b[1;31m---------------------------------------------------------------------------\u001b[0m",
      "\u001b[1;31mTypeError\u001b[0m                                 Traceback (most recent call last)",
      "Cell \u001b[1;32mIn[15], line 1\u001b[0m\n\u001b[1;32m----> 1\u001b[0m \u001b[38;5;28mprint\u001b[39m(\u001b[38;5;241m2.5\u001b[39m \u001b[38;5;241m*\u001b[39m var_1)\n",
      "\u001b[1;31mTypeError\u001b[0m: can't multiply sequence by non-int of type 'float'"
     ]
    }
   ],
   "source": [
    "print(2.5 * var_1)"
   ]
  },
  {
   "cell_type": "code",
   "execution_count": null,
   "id": "9977a958-73af-4f5b-87f8-6850485a8b74",
   "metadata": {},
   "outputs": [],
   "source": []
  },
  {
   "cell_type": "code",
   "execution_count": 16,
   "id": "9d8fd7c5-fa92-44f5-99d2-f74c3d466bb8",
   "metadata": {},
   "outputs": [],
   "source": [
    "greeting = \"How are you doing today?\""
   ]
  },
  {
   "cell_type": "code",
   "execution_count": 17,
   "id": "34444dc1-8ea6-42dc-8a97-834337cc8404",
   "metadata": {},
   "outputs": [
    {
     "data": {
      "text/plain": [
       "\u001b[1;31mSignature:\u001b[0m \u001b[0mgreeting\u001b[0m\u001b[1;33m.\u001b[0m\u001b[0mcapitalize\u001b[0m\u001b[1;33m(\u001b[0m\u001b[1;33m)\u001b[0m\u001b[1;33m\u001b[0m\u001b[1;33m\u001b[0m\u001b[0m\n",
       "\u001b[1;31mDocstring:\u001b[0m\n",
       "Return a capitalized version of the string.\n",
       "\n",
       "More specifically, make the first character have upper case and the rest lower\n",
       "case.\n",
       "\u001b[1;31mType:\u001b[0m      builtin_function_or_method"
      ]
     },
     "metadata": {},
     "output_type": "display_data"
    }
   ],
   "source": [
    "?greeting.capitalize"
   ]
  },
  {
   "cell_type": "code",
   "execution_count": 18,
   "id": "5f90bbc3-828a-4920-9db4-743f19360781",
   "metadata": {},
   "outputs": [
    {
     "data": {
      "text/plain": [
       "'How are you doing today?'"
      ]
     },
     "execution_count": 18,
     "metadata": {},
     "output_type": "execute_result"
    }
   ],
   "source": [
    "greeting.capitalize()"
   ]
  },
  {
   "cell_type": "code",
   "execution_count": 20,
   "id": "9edf8465-676b-4d23-b29c-523df92a1cf2",
   "metadata": {},
   "outputs": [
    {
     "data": {
      "text/plain": [
       "\u001b[1;31mSignature:\u001b[0m \u001b[0mgreeting\u001b[0m\u001b[1;33m.\u001b[0m\u001b[0mlstrip\u001b[0m\u001b[1;33m(\u001b[0m\u001b[0mchars\u001b[0m\u001b[1;33m=\u001b[0m\u001b[1;32mNone\u001b[0m\u001b[1;33m,\u001b[0m \u001b[1;33m/\u001b[0m\u001b[1;33m)\u001b[0m\u001b[1;33m\u001b[0m\u001b[1;33m\u001b[0m\u001b[0m\n",
       "\u001b[1;31mDocstring:\u001b[0m\n",
       "Return a copy of the string with leading whitespace removed.\n",
       "\n",
       "If chars is given and not None, remove characters in chars instead.\n",
       "\u001b[1;31mType:\u001b[0m      builtin_function_or_method"
      ]
     },
     "metadata": {},
     "output_type": "display_data"
    }
   ],
   "source": [
    "?greeting.lstrip"
   ]
  },
  {
   "cell_type": "code",
   "execution_count": 28,
   "id": "cd73fdfc-a789-41ee-b30d-7fc6cd8e43d3",
   "metadata": {},
   "outputs": [
    {
     "data": {
      "text/plain": [
       "'How are you doing today?'"
      ]
     },
     "execution_count": 28,
     "metadata": {},
     "output_type": "execute_result"
    }
   ],
   "source": [
    "greeting.lstrip()"
   ]
  },
  {
   "cell_type": "code",
   "execution_count": 30,
   "id": "99bdb024-bf7c-4b6e-a146-4a2e1c7c3c7f",
   "metadata": {},
   "outputs": [
    {
     "data": {
      "text/plain": [
       "\u001b[1;31mSignature:\u001b[0m \u001b[0mgreeting\u001b[0m\u001b[1;33m.\u001b[0m\u001b[0mreplace\u001b[0m\u001b[1;33m(\u001b[0m\u001b[0mold\u001b[0m\u001b[1;33m,\u001b[0m \u001b[0mnew\u001b[0m\u001b[1;33m,\u001b[0m \u001b[0mcount\u001b[0m\u001b[1;33m=\u001b[0m\u001b[1;33m-\u001b[0m\u001b[1;36m1\u001b[0m\u001b[1;33m,\u001b[0m \u001b[1;33m/\u001b[0m\u001b[1;33m)\u001b[0m\u001b[1;33m\u001b[0m\u001b[1;33m\u001b[0m\u001b[0m\n",
       "\u001b[1;31mDocstring:\u001b[0m\n",
       "Return a copy with all occurrences of substring old replaced by new.\n",
       "\n",
       "  count\n",
       "    Maximum number of occurrences to replace.\n",
       "    -1 (the default value) means replace all occurrences.\n",
       "\n",
       "If the optional argument count is given, only the first count occurrences are\n",
       "replaced.\n",
       "\u001b[1;31mType:\u001b[0m      builtin_function_or_method"
      ]
     },
     "metadata": {},
     "output_type": "display_data"
    }
   ],
   "source": [
    "?greeting.replace"
   ]
  },
  {
   "cell_type": "code",
   "execution_count": 31,
   "id": "9072f2ab-3732-4efe-b2cc-1adc15c34ed0",
   "metadata": {},
   "outputs": [
    {
     "data": {
      "text/plain": [
       "'What are you doing today?'"
      ]
     },
     "execution_count": 31,
     "metadata": {},
     "output_type": "execute_result"
    }
   ],
   "source": [
    "greeting.replace(\"How\", \"What\")"
   ]
  },
  {
   "cell_type": "code",
   "execution_count": 32,
   "id": "b19758c3-8751-4857-a9cb-d9f2575386ac",
   "metadata": {},
   "outputs": [
    {
     "data": {
      "text/plain": [
       "\u001b[1;31mSignature:\u001b[0m \u001b[0mgreeting\u001b[0m\u001b[1;33m.\u001b[0m\u001b[0mzfill\u001b[0m\u001b[1;33m(\u001b[0m\u001b[0mwidth\u001b[0m\u001b[1;33m,\u001b[0m \u001b[1;33m/\u001b[0m\u001b[1;33m)\u001b[0m\u001b[1;33m\u001b[0m\u001b[1;33m\u001b[0m\u001b[0m\n",
       "\u001b[1;31mDocstring:\u001b[0m\n",
       "Pad a numeric string with zeros on the left, to fill a field of the given width.\n",
       "\n",
       "The string is never truncated.\n",
       "\u001b[1;31mType:\u001b[0m      builtin_function_or_method"
      ]
     },
     "metadata": {},
     "output_type": "display_data"
    }
   ],
   "source": [
    "?greeting.zfill"
   ]
  },
  {
   "cell_type": "code",
   "execution_count": 34,
   "id": "7099efc3-2c0b-4473-8b34-74e2a2a281a9",
   "metadata": {},
   "outputs": [
    {
     "data": {
      "text/plain": [
       "'00000000000000000000000000How are you doing today?'"
      ]
     },
     "execution_count": 34,
     "metadata": {},
     "output_type": "execute_result"
    }
   ],
   "source": [
    "greeting.zfill(50)"
   ]
  },
  {
   "cell_type": "code",
   "execution_count": 36,
   "id": "9d968a38-d995-462b-9bf0-7d274c7521bc",
   "metadata": {},
   "outputs": [
    {
     "data": {
      "text/plain": [
       "2"
      ]
     },
     "execution_count": 36,
     "metadata": {},
     "output_type": "execute_result"
    }
   ],
   "source": [
    "greeting.count(\"d\")"
   ]
  },
  {
   "cell_type": "code",
   "execution_count": 37,
   "id": "9fda8ffc-630e-4566-a5ed-b7d65d46a2fd",
   "metadata": {},
   "outputs": [
    {
     "data": {
      "text/plain": [
       "\u001b[1;31mSignature:\u001b[0m \u001b[0mgreeting\u001b[0m\u001b[1;33m.\u001b[0m\u001b[0mpartition\u001b[0m\u001b[1;33m(\u001b[0m\u001b[0msep\u001b[0m\u001b[1;33m,\u001b[0m \u001b[1;33m/\u001b[0m\u001b[1;33m)\u001b[0m\u001b[1;33m\u001b[0m\u001b[1;33m\u001b[0m\u001b[0m\n",
       "\u001b[1;31mDocstring:\u001b[0m\n",
       "Partition the string into three parts using the given separator.\n",
       "\n",
       "This will search for the separator in the string.  If the separator is found,\n",
       "returns a 3-tuple containing the part before the separator, the separator\n",
       "itself, and the part after it.\n",
       "\n",
       "If the separator is not found, returns a 3-tuple containing the original string\n",
       "and two empty strings.\n",
       "\u001b[1;31mType:\u001b[0m      builtin_function_or_method"
      ]
     },
     "metadata": {},
     "output_type": "display_data"
    }
   ],
   "source": [
    "?greeting.partition"
   ]
  },
  {
   "cell_type": "code",
   "execution_count": 42,
   "id": "6af63a24-985d-49f0-a84d-240394f098d4",
   "metadata": {},
   "outputs": [
    {
     "data": {
      "text/plain": [
       "('How are you ', 'd', 'oing today?')"
      ]
     },
     "execution_count": 42,
     "metadata": {},
     "output_type": "execute_result"
    }
   ],
   "source": [
    "greeting.partition(\"d\")"
   ]
  },
  {
   "cell_type": "code",
   "execution_count": 43,
   "id": "84b6b35f-022a-4fd4-ac7f-61610a7e9148",
   "metadata": {},
   "outputs": [
    {
     "data": {
      "text/plain": [
       "\u001b[1;31mSignature:\u001b[0m \u001b[0mgreeting\u001b[0m\u001b[1;33m.\u001b[0m\u001b[0mswapcase\u001b[0m\u001b[1;33m(\u001b[0m\u001b[1;33m)\u001b[0m\u001b[1;33m\u001b[0m\u001b[1;33m\u001b[0m\u001b[0m\n",
       "\u001b[1;31mDocstring:\u001b[0m Convert uppercase characters to lowercase and lowercase characters to uppercase.\n",
       "\u001b[1;31mType:\u001b[0m      builtin_function_or_method"
      ]
     },
     "metadata": {},
     "output_type": "display_data"
    }
   ],
   "source": [
    "?greeting.swapcase"
   ]
  },
  {
   "cell_type": "code",
   "execution_count": 44,
   "id": "b90bb311-1199-446d-bf3f-d31edb302cb1",
   "metadata": {},
   "outputs": [
    {
     "data": {
      "text/plain": [
       "'hOW ARE YOU DOING TODAY?'"
      ]
     },
     "execution_count": 44,
     "metadata": {},
     "output_type": "execute_result"
    }
   ],
   "source": [
    "greeting.swapcase()"
   ]
  },
  {
   "cell_type": "code",
   "execution_count": 46,
   "id": "6e59b34a-4d4a-459a-a48e-1e1714f59b36",
   "metadata": {},
   "outputs": [
    {
     "data": {
      "text/plain": [
       "\u001b[1;31mSignature:\u001b[0m \u001b[0mgreeting\u001b[0m\u001b[1;33m.\u001b[0m\u001b[0mcenter\u001b[0m\u001b[1;33m(\u001b[0m\u001b[0mwidth\u001b[0m\u001b[1;33m,\u001b[0m \u001b[0mfillchar\u001b[0m\u001b[1;33m=\u001b[0m\u001b[1;34m' '\u001b[0m\u001b[1;33m,\u001b[0m \u001b[1;33m/\u001b[0m\u001b[1;33m)\u001b[0m\u001b[1;33m\u001b[0m\u001b[1;33m\u001b[0m\u001b[0m\n",
       "\u001b[1;31mDocstring:\u001b[0m\n",
       "Return a centered string of length width.\n",
       "\n",
       "Padding is done using the specified fill character (default is a space).\n",
       "\u001b[1;31mType:\u001b[0m      builtin_function_or_method"
      ]
     },
     "metadata": {},
     "output_type": "display_data"
    }
   ],
   "source": [
    "?greeting.center"
   ]
  },
  {
   "cell_type": "code",
   "execution_count": 47,
   "id": "f712efd2-c68d-4bd7-83e6-50db0f59f038",
   "metadata": {},
   "outputs": [
    {
     "data": {
      "text/plain": [
       "'***************************How are you doing today?***************************'"
      ]
     },
     "execution_count": 47,
     "metadata": {},
     "output_type": "execute_result"
    }
   ],
   "source": [
    "greeting.center(78, \"*\")"
   ]
  },
  {
   "cell_type": "code",
   "execution_count": 52,
   "id": "ffed1141-d568-411d-8304-d81eb2308b54",
   "metadata": {},
   "outputs": [],
   "source": [
    "%run testfile.txt"
   ]
  },
  {
   "cell_type": "code",
   "execution_count": 53,
   "id": "ee42c9a4-7767-4937-9110-9d82672050c4",
   "metadata": {},
   "outputs": [
    {
     "name": "stdout",
     "output_type": "stream",
     "text": [
      " Volume in drive C has no label.\n",
      " Volume Serial Number is 3896-7B03\n",
      "\n",
      " Directory of C:\\Users\\HP\\Desktop\\python_course\\notebooks_lecture_notes\n",
      "\n",
      "25/09/2025  12:21    <DIR>          .\n",
      "23/09/2025  10:33    <DIR>          ..\n",
      "25/09/2025  12:16    <DIR>          .ipynb_checkpoints\n",
      "23/09/2025  10:33             6,021 command_mode.png\n",
      "25/09/2025  12:10            17,739 day03.ipynb\n",
      "23/09/2025  10:33             6,030 edit_mode.png\n",
      "23/09/2025  10:33           194,094 Emily.png\n",
      "23/09/2025  10:33            17,311 menubar_toolbar.png\n",
      "22/09/2025  11:49         4,668,338 Peter.png\n",
      "23/09/2025  18:00            53,717 PeterKayode-day00-report.ipynb\n",
      "25/09/2025  10:53            76,134 PeterKayode-day01-report.ipynb\n",
      "24/09/2025  15:07            13,436 PeterKayode-day02-report.ipynb\n",
      "24/09/2025  23:46            41,018 peter_kayode_PP1.ipynb\n",
      "23/09/2025  18:00            53,717 PyPro-SCiDaS-day_00_introduction_to_jupyter_notebooks.ipynb\n",
      "25/09/2025  11:04            79,133 PyPro-SCiDaS-day_01a_introduction_to_python.ipynb\n",
      "25/09/2025  10:25            95,186 PyPro-SCiDaS-day_01b_variables-and-assignment.ipynb\n",
      "25/09/2025  12:21                22 testfile.txt\n",
      "24/09/2025  14:38            21,327 Tutorial_1.ipynb\n",
      "25/09/2025  12:16                72 Untitled.ipynb\n",
      "              16 File(s)      5,343,295 bytes\n",
      "               3 Dir(s)  119,338,643,456 bytes free\n"
     ]
    }
   ],
   "source": [
    "!dir"
   ]
  },
  {
   "cell_type": "code",
   "execution_count": 56,
   "id": "ee369984-79e5-47ae-8615-567a24f69293",
   "metadata": {},
   "outputs": [
    {
     "name": "stdout",
     "output_type": "stream",
     "text": [
      "My name is Peter Kayode\n",
      "\n",
      "I am a student at AIMS Rwanda\n",
      "\n",
      "I am currently studying for a Masters degree in Mathematical Science with a specialization in Data Science\n",
      "\n"
     ]
    }
   ],
   "source": [
    "with open(\"testfile.txt\", \"r\") as file:\n",
    "    for line in file.readlines():\n",
    "        print(line)"
   ]
  },
  {
   "cell_type": "code",
   "execution_count": 64,
   "id": "b495ddef-fb93-4b74-bf24-4d3dc6c3f5e0",
   "metadata": {},
   "outputs": [],
   "source": [
    "# %load testfile.txt\n",
    "My name is Peter Kayode\n",
    "\n",
    "I am a student at AIMS Rwanda\n",
    "\n",
    "I am currently studying for a Masters degree in Mathematical Science with a specialization in Data Science"
   ]
  },
  {
   "cell_type": "code",
   "execution_count": 68,
   "id": "92f128b7-124d-4db9-9b61-c0d38b73f4dd",
   "metadata": {},
   "outputs": [
    {
     "data": {
      "text/plain": [
       "25"
      ]
     },
     "execution_count": 68,
     "metadata": {},
     "output_type": "execute_result"
    }
   ],
   "source": [
    "# to_write_to_file = open(\"testfile.txt\", \"w\")\n",
    "# to_write_to_file.write(\"This is an addtional line\")\n",
    "# to_write_to_file.close()\n",
    "\n",
    "# This overwrites anything previously in the file before."
   ]
  },
  {
   "cell_type": "code",
   "execution_count": 66,
   "id": "e890475b-5bb1-4e62-a995-fcc33976f58e",
   "metadata": {},
   "outputs": [],
   "source": [
    "# %load testfile.txt\n",
    "This is an addtional line"
   ]
  },
  {
   "cell_type": "code",
   "execution_count": null,
   "id": "5d138ea3-3e84-4f41-9a2f-81048c6eca8c",
   "metadata": {},
   "outputs": [],
   "source": []
  },
  {
   "cell_type": "code",
   "execution_count": null,
   "id": "4166fcb3-1e4e-448b-95e4-4fec3e75751a",
   "metadata": {},
   "outputs": [],
   "source": []
  }
 ],
 "metadata": {
  "kernelspec": {
   "display_name": "Python 3 (ipykernel)",
   "language": "python",
   "name": "python3"
  },
  "language_info": {
   "codemirror_mode": {
    "name": "ipython",
    "version": 3
   },
   "file_extension": ".py",
   "mimetype": "text/x-python",
   "name": "python",
   "nbconvert_exporter": "python",
   "pygments_lexer": "ipython3",
   "version": "3.11.7"
  }
 },
 "nbformat": 4,
 "nbformat_minor": 5
}
