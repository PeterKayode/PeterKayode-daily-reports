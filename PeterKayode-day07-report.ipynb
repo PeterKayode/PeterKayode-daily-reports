{
 "cells": [
  {
   "cell_type": "markdown",
   "id": "eae0083d-7a2d-4507-a05f-70fc27fc9db5",
   "metadata": {},
   "source": [
    "## Functions"
   ]
  },
  {
   "cell_type": "markdown",
   "id": "743d15af-484e-4062-845e-f2afe456fcc1",
   "metadata": {},
   "source": [
    "A function is a reusable piece of code that performs a specific task whenever it is called"
   ]
  },
  {
   "cell_type": "markdown",
   "id": "cfcf7e30-e556-4e97-9f3e-fdc99703ecee",
   "metadata": {},
   "source": [
    "Generally, A function is a rule that shows rule that shows the relartionship between variables\n",
    "\n",
    "So far we've been using two python inbuilt functions which are `input` and `print`"
   ]
  },
  {
   "cell_type": "code",
   "execution_count": 7,
   "id": "e1412542-c9c4-44e6-a0e8-f3c91bc53c79",
   "metadata": {},
   "outputs": [
    {
     "name": "stdout",
     "output_type": "stream",
     "text": [
      "1 x 8 = 8\n",
      "2 x 8 = 16\n",
      "3 x 8 = 24\n",
      "4 x 8 = 32\n",
      "5 x 8 = 40\n",
      "6 x 8 = 48\n",
      "7 x 8 = 56\n",
      "8 x 8 = 64\n",
      "9 x 8 = 72\n",
      "10 x 8 = 80\n",
      "11 x 8 = 88\n",
      "12 x 8 = 96\n",
      "13 x 8 = 104\n",
      "14 x 8 = 112\n",
      "15 x 8 = 120\n",
      "16 x 8 = 128\n",
      "17 x 8 = 136\n",
      "18 x 8 = 144\n",
      "19 x 8 = 152\n",
      "20 x 8 = 160\n"
     ]
    }
   ],
   "source": [
    "def multiplication_table_8():\n",
    "    '''\n",
    "    The purpose of this function is to display the first 20\n",
    "    values of the multiplication table for 8.\n",
    "    Input: None\n",
    "    Output: The multiplication table for 8\n",
    "    '''\n",
    "    \n",
    "    n = 1\n",
    "    while n <= 20:\n",
    "        v = n * 8\n",
    "        print(n, \"x\", 8, \"=\", v, sep=\" \")\n",
    "        n = n + 1\n",
    "\n",
    "multiplication_table_8()"
   ]
  },
  {
   "cell_type": "code",
   "execution_count": 9,
   "id": "79830bdc-4c86-4297-9101-3b3f611bca4b",
   "metadata": {},
   "outputs": [
    {
     "name": "stdout",
     "output_type": "stream",
     "text": [
      "1 x 49 = 49\n",
      "2 x 49 = 98\n",
      "3 x 49 = 147\n",
      "4 x 49 = 196\n",
      "5 x 49 = 245\n",
      "6 x 49 = 294\n",
      "7 x 49 = 343\n",
      "8 x 49 = 392\n",
      "9 x 49 = 441\n",
      "10 x 49 = 490\n",
      "11 x 49 = 539\n",
      "12 x 49 = 588\n",
      "13 x 49 = 637\n",
      "14 x 49 = 686\n",
      "15 x 49 = 735\n",
      "16 x 49 = 784\n",
      "17 x 49 = 833\n",
      "18 x 49 = 882\n",
      "19 x 49 = 931\n",
      "20 x 49 = 980\n"
     ]
    }
   ],
   "source": [
    "def multiplication_table(y):\n",
    "    '''\n",
    "    The purpose of this function is to display the first 20\n",
    "    values of the multiplication table for any given number.\n",
    "    Input: y - the multiplcation\n",
    "    Output: The multiplication table for the given number y\n",
    "    '''\n",
    "    \n",
    "    n = 1\n",
    "    while n <= 20:\n",
    "        v = n * y\n",
    "        print(n, \"x\", y, \"=\", v, sep=\" \")\n",
    "        n = n + 1\n",
    "\n",
    "multiplication_table(49)"
   ]
  },
  {
   "cell_type": "code",
   "execution_count": 22,
   "id": "bf32a79d-d439-4da2-a426-23f05f12a103",
   "metadata": {},
   "outputs": [
    {
     "name": "stdout",
     "output_type": "stream",
     "text": [
      "Multiplication Table for 7: \n",
      "=========================\n",
      " 1 x  7 =   7\n",
      " 2 x  7 =  14\n",
      " 3 x  7 =  21\n",
      " 4 x  7 =  28\n",
      " 5 x  7 =  35\n",
      " 6 x  7 =  42\n",
      " 7 x  7 =  49\n",
      " 8 x  7 =  56\n",
      " 9 x  7 =  63\n",
      "10 x  7 =  70\n",
      "=========================\n"
     ]
    }
   ],
   "source": [
    "def multiplication_table(n):\n",
    "    print(f\"Multiplication Table for {n}: \")\n",
    "    print(\"=\" * 25)\n",
    "    for i in range(1, 11):\n",
    "        result = i * n\n",
    "        print(f\"{i:2} x {n:2} = {result:3}\")\n",
    "    print(\"=\" * 25)\n",
    "\n",
    "\n",
    "multiplication_table(7)"
   ]
  },
  {
   "cell_type": "code",
   "execution_count": null,
   "id": "f2bbf9bf-672b-4726-a8ff-8f7098ad6f8b",
   "metadata": {},
   "outputs": [],
   "source": []
  },
  {
   "cell_type": "code",
   "execution_count": 23,
   "id": "6e4db34e-f44f-4bdb-9803-836908b1f288",
   "metadata": {},
   "outputs": [],
   "source": [
    "def square(x):\n",
    "    \"\"\"\n",
    "    This function calculates the square of a given number.\n",
    "    Input: The number x to be squared.\n",
    "    Output: The square of the input number.\n",
    "    \"\"\"\n",
    "    return x ** 2"
   ]
  },
  {
   "cell_type": "code",
   "execution_count": 24,
   "id": "02ccde80-5af6-4d35-a71e-801532ca4814",
   "metadata": {},
   "outputs": [
    {
     "data": {
      "text/plain": [
       "81"
      ]
     },
     "execution_count": 24,
     "metadata": {},
     "output_type": "execute_result"
    }
   ],
   "source": [
    "square(9)"
   ]
  },
  {
   "cell_type": "markdown",
   "id": "84cbfbd2-ba0b-414a-8589-aeddd40a9d18",
   "metadata": {},
   "source": [
    "#### What's the difference between the print function and the return?\n",
    "\n",
    "The return is majorly used in a function. It is used to return the value expected to be the output, such that it can be used for further programming. Print just outputs the given value/variable"
   ]
  },
  {
   "cell_type": "code",
   "execution_count": 25,
   "id": "113e570b-c4f3-46fa-aa37-dc104272b809",
   "metadata": {},
   "outputs": [],
   "source": [
    "def rectangle(a, b):\n",
    "    \"\"\"\n",
    "    This function calculates the area of rectangle\n",
    "    Input: The length abd width of the rectangle.\n",
    "    Output: The area of the rectangle.\n",
    "    \"\"\"\n",
    "    return a * b"
   ]
  },
  {
   "cell_type": "code",
   "execution_count": 26,
   "id": "6a7d9ead-5513-4b94-9de5-f6f4dbca425c",
   "metadata": {},
   "outputs": [
    {
     "data": {
      "text/plain": [
       "40"
      ]
     },
     "execution_count": 26,
     "metadata": {},
     "output_type": "execute_result"
    }
   ],
   "source": [
    "rectangle(5, 8)"
   ]
  },
  {
   "cell_type": "code",
   "execution_count": null,
   "id": "b7ab8d8f-26be-43c0-bc43-5286946d9672",
   "metadata": {},
   "outputs": [],
   "source": []
  },
  {
   "cell_type": "code",
   "execution_count": null,
   "id": "1aba7ef1-b01a-47ae-af35-a3da72500f83",
   "metadata": {},
   "outputs": [],
   "source": []
  },
  {
   "cell_type": "code",
   "execution_count": 27,
   "id": "bf130534-6bf4-439c-b0b6-2270fa901364",
   "metadata": {},
   "outputs": [],
   "source": [
    "def rectangle():\n",
    "    \"\"\"\n",
    "    This function calculates the area of rectangle\n",
    "    Input: The length abd width of the rectangle.\n",
    "    Output: The area of the rectangle.\n",
    "    \"\"\"\n",
    "    length = float(input(\"Enter the value of Length: \"))\n",
    "    width = float(input(\"Enter the value of width: \"))\n",
    "\n",
    "    return length * width"
   ]
  },
  {
   "cell_type": "code",
   "execution_count": 28,
   "id": "5c4efb0b-ad00-4973-a17a-470a6ab9f8ae",
   "metadata": {},
   "outputs": [
    {
     "name": "stdin",
     "output_type": "stream",
     "text": [
      "Enter the value of Length:  7\n",
      "Enter the value of width:  8\n"
     ]
    },
    {
     "data": {
      "text/plain": [
       "56.0"
      ]
     },
     "execution_count": 28,
     "metadata": {},
     "output_type": "execute_result"
    }
   ],
   "source": [
    "rectangle()"
   ]
  },
  {
   "cell_type": "code",
   "execution_count": 32,
   "id": "0610b726-c310-46b7-ace7-3ee32791fdd8",
   "metadata": {},
   "outputs": [
    {
     "name": "stdin",
     "output_type": "stream",
     "text": [
      "Enter the value of Length:  8\n",
      "Enter the value of width:  98765432\n"
     ]
    },
    {
     "data": {
      "text/plain": [
       "790123456.0"
      ]
     },
     "execution_count": 32,
     "metadata": {},
     "output_type": "execute_result"
    }
   ],
   "source": [
    "a = rectangle()\n",
    "a"
   ]
  },
  {
   "cell_type": "code",
   "execution_count": null,
   "id": "120a0aec-5ca4-4cfd-ae9c-c9877bc19dcb",
   "metadata": {},
   "outputs": [],
   "source": []
  }
 ],
 "metadata": {
  "kernelspec": {
   "display_name": "Python 3 (ipykernel)",
   "language": "python",
   "name": "python3"
  },
  "language_info": {
   "codemirror_mode": {
    "name": "ipython",
    "version": 3
   },
   "file_extension": ".py",
   "mimetype": "text/x-python",
   "name": "python",
   "nbconvert_exporter": "python",
   "pygments_lexer": "ipython3",
   "version": "3.11.7"
  }
 },
 "nbformat": 4,
 "nbformat_minor": 5
}
