{
 "cells": [
  {
   "cell_type": "markdown",
   "id": "0fda7fc0-ac66-4f03-8caf-e5aaf36b77a5",
   "metadata": {},
   "source": [
    "## Flow Control"
   ]
  },
  {
   "cell_type": "code",
   "execution_count": 2,
   "id": "78828409-dbc1-49eb-ab28-933926a5b66e",
   "metadata": {},
   "outputs": [
    {
     "name": "stdin",
     "output_type": "stream",
     "text": [
      "Enter your score:  45\n"
     ]
    },
    {
     "name": "stdout",
     "output_type": "stream",
     "text": [
      "There is catch-up\n"
     ]
    }
   ],
   "source": [
    "score = int(input(\"Enter your score: \"))\n",
    "\n",
    "if score >= 70:\n",
    "    print(\"No catch-up for you\")\n",
    "else:\n",
    "    print(\"You would do catch-up\")"
   ]
  },
  {
   "cell_type": "code",
   "execution_count": null,
   "id": "65e1ce7d-33c6-4654-920a-46aecd526969",
   "metadata": {},
   "outputs": [],
   "source": []
  },
  {
   "cell_type": "markdown",
   "id": "13dca826-7c46-43ee-9737-e297366d1d0f",
   "metadata": {},
   "source": [
    "`if` ... `else`"
   ]
  },
  {
   "cell_type": "code",
   "execution_count": 3,
   "id": "dc7e2d2d-2d5d-4ae6-b014-fd0f060e152c",
   "metadata": {},
   "outputs": [
    {
     "name": "stdout",
     "output_type": "stream",
     "text": [
      "27\n",
      "We do not have it\n"
     ]
    }
   ],
   "source": [
    "a = 27\n",
    "print(a)\n",
    "if (a > 29):\n",
    "    print(\"We have it\")\n",
    "else:\n",
    "    print(\"We do not have it\")"
   ]
  },
  {
   "cell_type": "code",
   "execution_count": null,
   "id": "42d98334-7f2c-4393-a7a3-de64d036e29b",
   "metadata": {},
   "outputs": [],
   "source": []
  },
  {
   "cell_type": "markdown",
   "id": "67f95709-054c-4793-b8c2-79542e417e56",
   "metadata": {},
   "source": [
    "`if` ... `elif` ... `else`"
   ]
  },
  {
   "cell_type": "code",
   "execution_count": 5,
   "id": "215e3ecf-7149-4b10-8376-78f4a44cb593",
   "metadata": {},
   "outputs": [
    {
     "name": "stdout",
     "output_type": "stream",
     "text": [
      "x is zero\n"
     ]
    }
   ],
   "source": [
    "x = 0\n",
    "\n",
    "if x > 0:\n",
    "    print(\"x is positive\")\n",
    "elif x < 0:\n",
    "    print(x is negative)\n",
    "else:\n",
    "    print(\"x is zero\")"
   ]
  },
  {
   "cell_type": "code",
   "execution_count": null,
   "id": "c7cedd9c-4c19-4ea1-8aa0-3ebf340ac148",
   "metadata": {},
   "outputs": [],
   "source": []
  },
  {
   "cell_type": "markdown",
   "id": "83f25c23-08e5-4086-a963-e8359a21bca8",
   "metadata": {},
   "source": [
    "### Nested `if`"
   ]
  },
  {
   "cell_type": "code",
   "execution_count": 6,
   "id": "956b75c3-e855-4f72-a0a5-cb557ae7bcf0",
   "metadata": {},
   "outputs": [
    {
     "name": "stdout",
     "output_type": "stream",
     "text": [
      "a is greater than b\n",
      "No way\n"
     ]
    }
   ],
   "source": [
    "a = 15\n",
    "b = 10\n",
    "\n",
    "if a > b:\n",
    "    print(\"a is greater than b\")\n",
    "    if (a-b > 5):\n",
    "        print(\"The difference is: .....\")\n",
    "    else:\n",
    "        print(\"No way\")\n",
    "else: print(\"Always shut your mouth\")"
   ]
  },
  {
   "cell_type": "code",
   "execution_count": null,
   "id": "3ee6fc26-9157-4a17-9168-46da95401e86",
   "metadata": {},
   "outputs": [],
   "source": []
  },
  {
   "cell_type": "code",
   "execution_count": 27,
   "id": "da7d4527-a513-473f-90de-48666e1673b1",
   "metadata": {},
   "outputs": [
    {
     "name": "stdin",
     "output_type": "stream",
     "text": [
      "Enter the value of a:  3\n",
      "Enter the value of b:  4\n",
      "Enter the value of c:  5\n"
     ]
    },
    {
     "name": "stdout",
     "output_type": "stream",
     "text": [
      "The roots of the equation are:  (-6+9.9498743710662j) and  (-6-9.9498743710662j)\n"
     ]
    }
   ],
   "source": [
    "import math\n",
    "\n",
    "a = float(input(\"Enter the value of a: \"))\n",
    "b = float(input(\"Enter the value of b: \"))\n",
    "c = float(input(\"Enter the value of c: \"))\n",
    "\n",
    "if a != 0:\n",
    "    delta = (b**2) - (4*a*c)\n",
    "    if delta >= 0:\n",
    "        root_1 = (-b + math.sqrt(delta))/(2*a)\n",
    "        root_2 = (-b - math.sqrt(delta))/(2*a)\n",
    "        print(\"The roots of the equation are: \", root_1, \"and \", root_2)\n",
    "    else:\n",
    "        root_1 = complex(-b, (math.sqrt(-delta)))/ 2*a\n",
    "        root_2 = complex(-b, -(math.sqrt(-delta)))/ 2*a\n",
    "        print(\"The roots of the equation are: \", root_1, \"and \", root_2)\n",
    "else:\n",
    "    print(\"A has to be greater than 0\")\n",
    "    "
   ]
  },
  {
   "cell_type": "code",
   "execution_count": null,
   "id": "d5dfe185-83dc-470a-80f4-44654305213e",
   "metadata": {},
   "outputs": [],
   "source": []
  },
  {
   "cell_type": "markdown",
   "id": "0f3c3987-beb1-477b-913a-807a3957d8e1",
   "metadata": {},
   "source": [
    "## Loop (`while` and `for`)"
   ]
  },
  {
   "cell_type": "markdown",
   "id": "8c832870-98e3-4409-8e82-454705e3ab98",
   "metadata": {},
   "source": [
    "### `while` loop"
   ]
  },
  {
   "cell_type": "code",
   "execution_count": 29,
   "id": "1353425c-23f8-4af9-8880-b9c891045226",
   "metadata": {},
   "outputs": [
    {
     "name": "stdout",
     "output_type": "stream",
     "text": [
      "The value of x is 1\n",
      "The value of x is 2\n",
      "The value of x is 3\n",
      "The value of x is 4\n",
      "The value of x is 5\n",
      "The value of x is 6\n",
      "The value of x is 7\n",
      "The value of x is 8\n",
      "The value of x is 9\n"
     ]
    }
   ],
   "source": [
    "i = 1\n",
    "\n",
    "while (i < 10):\n",
    "    print(\"The value of x is\", i)\n",
    "    i += 1"
   ]
  },
  {
   "cell_type": "code",
   "execution_count": null,
   "id": "e8c1f16a-26e6-4fd3-b544-d305683d0675",
   "metadata": {},
   "outputs": [],
   "source": []
  },
  {
   "cell_type": "markdown",
   "id": "9828cde8-462c-4ad6-87ea-c4b372286737",
   "metadata": {},
   "source": [
    "### `for` loop"
   ]
  },
  {
   "cell_type": "code",
   "execution_count": 31,
   "id": "4f2695ab-2428-4225-80c1-b9bbac93c402",
   "metadata": {},
   "outputs": [
    {
     "name": "stdout",
     "output_type": "stream",
     "text": [
      "mango is not 56\n",
      "orange is not 56\n",
      "4 is not 56\n",
      "56 found\n",
      "understanding python is good is not 56\n"
     ]
    }
   ],
   "source": [
    "fruits = [\"mango\", \"orange\", 4, 56, \"understanding python is good\"]\n",
    "\n",
    "for i in fruits:\n",
    "    if i == 56:\n",
    "        print(\"56 found\")\n",
    "    else:\n",
    "        print(i, \"is not 56\")"
   ]
  },
  {
   "cell_type": "code",
   "execution_count": 39,
   "id": "8472e16b-89bd-4120-8232-59a74ef40157",
   "metadata": {},
   "outputs": [
    {
     "name": "stdout",
     "output_type": "stream",
     "text": [
      "The letter T is a consonant\n",
      "The letter h is a consonant\n",
      "The letter i is a vowel\n",
      "The letter s is a consonant\n",
      "Blank space\n",
      "The letter i is a vowel\n",
      "The letter s is a consonant\n",
      "Blank space\n",
      "The letter t is a consonant\n",
      "The letter h is a consonant\n",
      "The letter e is a vowel\n",
      "Blank space\n",
      "The letter s is a consonant\n",
      "The letter e is a vowel\n",
      "The letter c is a consonant\n",
      "The letter o is a vowel\n",
      "The letter n is a consonant\n",
      "The letter d is a consonant\n",
      "Blank space\n",
      "The letter c is a consonant\n",
      "The letter l is a consonant\n",
      "The letter a is a vowel\n",
      "The letter s is a consonant\n",
      "The letter s is a consonant\n",
      "Blank space\n",
      "The letter i is a vowel\n",
      "The letter n is a consonant\n",
      "Blank space\n",
      "The letter t is a consonant\n",
      "The letter h is a consonant\n",
      "The letter e is a vowel\n",
      "Blank space\n",
      "The letter n is a consonant\n",
      "The letter e is a vowel\n",
      "The letter w is a consonant\n",
      "Blank space\n",
      "The letter A is a vowel\n",
      "The letter I is a vowel\n",
      "The letter M is a consonant\n",
      "The letter S is a consonant\n",
      "Blank space\n",
      "The letter b is a consonant\n",
      "The letter u is a vowel\n",
      "The letter i is a vowel\n",
      "The letter l is a consonant\n",
      "The letter d is a consonant\n",
      "The letter i is a vowel\n",
      "The letter n is a consonant\n",
      "The letter g is a consonant\n",
      ". is a punctuation\n",
      "$ is a punctuation\n",
      "$ is a punctuation\n",
      "$ is a punctuation\n"
     ]
    }
   ],
   "source": [
    "import string\n",
    "\n",
    "sentence = \"This is the second class in the new AIMS building.$$$\"\n",
    "\n",
    "for letter in sentence:\n",
    "    if letter in \"AEIOUaeiou\":\n",
    "        print(\"The letter\", letter, \"is a vowel\")\n",
    "    elif letter == \" \":\n",
    "        print(\"Blank space\")\n",
    "    elif letter in string.punctuation:\n",
    "        print(letter, \"is a punctuation\")\n",
    "    else:\n",
    "        print(\"The letter\", letter, \"is a consonant\")"
   ]
  },
  {
   "cell_type": "code",
   "execution_count": 35,
   "id": "fd2279f2-118b-4b21-a5f5-024279b8245a",
   "metadata": {},
   "outputs": [
    {
     "name": "stdout",
     "output_type": "stream",
     "text": [
      "['Formatter', 'Template', '_ChainMap', '__all__', '__builtins__', '__cached__', '__doc__', '__file__', '__loader__', '__name__', '__package__', '__spec__', '_re', '_sentinel_dict', '_string', 'ascii_letters', 'ascii_lowercase', 'ascii_uppercase', 'capwords', 'digits', 'hexdigits', 'octdigits', 'printable', 'punctuation', 'whitespace']\n"
     ]
    }
   ],
   "source": [
    "import string\n",
    "print(dir(string))"
   ]
  },
  {
   "cell_type": "code",
   "execution_count": 36,
   "id": "9cdc5d83-83ba-4a40-a600-83d7627e1521",
   "metadata": {},
   "outputs": [
    {
     "data": {
      "text/plain": [
       "'!\"#$%&\\'()*+,-./:;<=>?@[\\\\]^_`{|}~'"
      ]
     },
     "execution_count": 36,
     "metadata": {},
     "output_type": "execute_result"
    }
   ],
   "source": [
    "string.punctuation"
   ]
  },
  {
   "cell_type": "code",
   "execution_count": null,
   "id": "4576bf1a-5f52-4a48-89c0-0892a1002539",
   "metadata": {},
   "outputs": [],
   "source": []
  }
 ],
 "metadata": {
  "kernelspec": {
   "display_name": "Python 3 (ipykernel)",
   "language": "python",
   "name": "python3"
  },
  "language_info": {
   "codemirror_mode": {
    "name": "ipython",
    "version": 3
   },
   "file_extension": ".py",
   "mimetype": "text/x-python",
   "name": "python",
   "nbconvert_exporter": "python",
   "pygments_lexer": "ipython3",
   "version": "3.11.7"
  }
 },
 "nbformat": 4,
 "nbformat_minor": 5
}
