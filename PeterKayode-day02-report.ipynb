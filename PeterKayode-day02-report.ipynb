{
 "cells": [
  {
   "cell_type": "markdown",
   "id": "29e2a233-c009-45df-9636-9127d1d7589b",
   "metadata": {},
   "source": [
    "****\n",
    "\n",
    "# <center> <b> <span style=\"color:orange;\"> Python Proficiency for Scientific Computing and Data Science (PyPro-SCiDaS)  </span> </b></center>\n",
    "\n",
    "### <center> <b> <span style=\"color:green;\">Day 2 Report </span> </b></center>\n",
    "    "
   ]
  },
  {
   "cell_type": "markdown",
   "id": "0607c653-9fa7-4c0a-9bdf-bd4032c9f48c",
   "metadata": {},
   "source": [
    "# Coersion in Python"
   ]
  },
  {
   "cell_type": "code",
   "execution_count": 1,
   "id": "1797b4f2-7d30-4911-9298-f77e547a8ce2",
   "metadata": {},
   "outputs": [],
   "source": [
    "age = 45\n",
    "name = \"Peter\"\n",
    "number = 34.6"
   ]
  },
  {
   "cell_type": "code",
   "execution_count": 2,
   "id": "622d6e20-f083-4b11-accf-8fac94717707",
   "metadata": {},
   "outputs": [
    {
     "name": "stdout",
     "output_type": "stream",
     "text": [
      "45 <class 'int'>\n",
      "Peter <class 'str'>\n",
      "34.6 <class 'float'>\n"
     ]
    }
   ],
   "source": [
    "print(age, type(age))\n",
    "print(name, type(name))\n",
    "print(number, type(number))"
   ]
  },
  {
   "cell_type": "code",
   "execution_count": 6,
   "id": "d239fd2e-8e39-4a69-bcdf-29275252b831",
   "metadata": {},
   "outputs": [
    {
     "name": "stdout",
     "output_type": "stream",
     "text": [
      "<class 'float'>\n",
      "6\n"
     ]
    }
   ],
   "source": [
    "x = 5        # int\n",
    "y = 3.2      # float\n",
    "\n",
    "print(type(x+y))\n",
    "\n",
    "a = 6.78\n",
    "b = int(a)\n",
    "\n",
    "print(b)"
   ]
  },
  {
   "cell_type": "markdown",
   "id": "7c6db6e9-0696-45b5-a6f8-fbe7259dc266",
   "metadata": {},
   "source": [
    "## Explicit Coersion in Python"
   ]
  },
  {
   "cell_type": "code",
   "execution_count": 3,
   "id": "93d2b548-5a57-4789-9aad-bb79ea7a20e2",
   "metadata": {},
   "outputs": [
    {
     "name": "stdout",
     "output_type": "stream",
     "text": [
      "<class 'float'>\n",
      "45.0\n"
     ]
    }
   ],
   "source": [
    "age = float(age)\n",
    "print(type(age))\n",
    "print(age)"
   ]
  },
  {
   "cell_type": "code",
   "execution_count": 4,
   "id": "6cf1c0c2-3223-429c-85e3-b0106d30121d",
   "metadata": {},
   "outputs": [
    {
     "name": "stdout",
     "output_type": "stream",
     "text": [
      "<class 'int'>\n",
      "34\n"
     ]
    }
   ],
   "source": [
    "number = int(number)\n",
    "print(type(number))\n",
    "print(number)"
   ]
  },
  {
   "cell_type": "code",
   "execution_count": null,
   "id": "f443d23f-5d3c-41a9-8737-7b78ba1033a8",
   "metadata": {},
   "outputs": [],
   "source": []
  },
  {
   "cell_type": "markdown",
   "id": "e805b4f3-d104-4cf0-adae-776cad9e3e05",
   "metadata": {},
   "source": [
    "## Playing with Swapping Variables Manually"
   ]
  },
  {
   "cell_type": "code",
   "execution_count": 7,
   "id": "c8b4b590-a4dc-4905-82d6-90038b38d010",
   "metadata": {},
   "outputs": [
    {
     "name": "stdout",
     "output_type": "stream",
     "text": [
      "False\n",
      "True\n"
     ]
    }
   ],
   "source": [
    "# Trying to sap the intial values of var_1 and var_2\n",
    "\n",
    "var_1 = True\n",
    "var_2 = False\n",
    "\n",
    "var_2 = var_1 + var_2\n",
    "var_1 = var_2 - var_1\n",
    "\n",
    "var_2 = bool(var_2)\n",
    "var_1 = bool(var_1)\n",
    "\n",
    "print(var_1)\n",
    "print(var_2)"
   ]
  },
  {
   "cell_type": "code",
   "execution_count": null,
   "id": "8aa34695-43c5-4450-b191-3b2444232e52",
   "metadata": {},
   "outputs": [],
   "source": []
  },
  {
   "cell_type": "code",
   "execution_count": 10,
   "id": "487b9c60-800f-4b0d-b561-90f3893d23d9",
   "metadata": {},
   "outputs": [],
   "source": [
    "trying = 34\n",
    "testing = \"going to church\""
   ]
  },
  {
   "cell_type": "code",
   "execution_count": 11,
   "id": "a8485de5-f0db-48cd-a9fa-83e28e7157a2",
   "metadata": {},
   "outputs": [
    {
     "name": "stdout",
     "output_type": "stream",
     "text": [
      "['__abs__', '__add__', '__and__', '__bool__', '__ceil__', '__class__', '__delattr__', '__dir__', '__divmod__', '__doc__', '__eq__', '__float__', '__floor__', '__floordiv__', '__format__', '__ge__', '__getattribute__', '__getnewargs__', '__getstate__', '__gt__', '__hash__', '__index__', '__init__', '__init_subclass__', '__int__', '__invert__', '__le__', '__lshift__', '__lt__', '__mod__', '__mul__', '__ne__', '__neg__', '__new__', '__or__', '__pos__', '__pow__', '__radd__', '__rand__', '__rdivmod__', '__reduce__', '__reduce_ex__', '__repr__', '__rfloordiv__', '__rlshift__', '__rmod__', '__rmul__', '__ror__', '__round__', '__rpow__', '__rrshift__', '__rshift__', '__rsub__', '__rtruediv__', '__rxor__', '__setattr__', '__sizeof__', '__str__', '__sub__', '__subclasshook__', '__truediv__', '__trunc__', '__xor__', 'as_integer_ratio', 'bit_count', 'bit_length', 'conjugate', 'denominator', 'from_bytes', 'imag', 'numerator', 'real', 'to_bytes']\n"
     ]
    }
   ],
   "source": [
    "print(dir(trying))"
   ]
  },
  {
   "cell_type": "code",
   "execution_count": 14,
   "id": "54dc2be2-c604-42c7-9c81-feadcf2dfc79",
   "metadata": {},
   "outputs": [
    {
     "name": "stdout",
     "output_type": "stream",
     "text": [
      "['False', 'None', 'True', 'and', 'as', 'assert', 'async', 'await', 'break', 'class', 'continue', 'def', 'del', 'elif', 'else', 'except', 'finally', 'for', 'from', 'global', 'if', 'import', 'in', 'is', 'lambda', 'nonlocal', 'not', 'or', 'pass', 'raise', 'return', 'try', 'while', 'with', 'yield']\n"
     ]
    }
   ],
   "source": [
    "import keyword\n",
    "\n",
    "print(keyword.kwlist)"
   ]
  },
  {
   "cell_type": "code",
   "execution_count": null,
   "id": "56d8e8e5-89e3-44e9-bee2-a6aae9166bbc",
   "metadata": {},
   "outputs": [],
   "source": []
  },
  {
   "cell_type": "markdown",
   "id": "73b3a477-1cea-454b-b610-26ab9afc3def",
   "metadata": {},
   "source": [
    "# Input in Python"
   ]
  },
  {
   "cell_type": "code",
   "execution_count": 8,
   "id": "bcfb1fde-6214-4273-b81c-4d5a0f5cd97a",
   "metadata": {},
   "outputs": [
    {
     "name": "stdin",
     "output_type": "stream",
     "text": [
      "Enter your name:  Peter Kayode\n"
     ]
    },
    {
     "name": "stdout",
     "output_type": "stream",
     "text": [
      "Welcome Peter Kayode\n"
     ]
    }
   ],
   "source": [
    "name = input(\"Enter your name: \")\n",
    "print(\"Welcome\", name)"
   ]
  },
  {
   "cell_type": "code",
   "execution_count": null,
   "id": "648a3ece-ba97-4396-841c-9ffe3fb888ec",
   "metadata": {},
   "outputs": [],
   "source": []
  },
  {
   "cell_type": "markdown",
   "id": "00486ae3-611d-4a83-90d7-d3eadde2126f",
   "metadata": {},
   "source": [
    "### We can use eval() to evaluate an arithmetic expression directly in the input of python"
   ]
  },
  {
   "cell_type": "code",
   "execution_count": 9,
   "id": "1f4ec43f-0c4c-4dfc-b8cb-8ab2adf3a718",
   "metadata": {},
   "outputs": [
    {
     "name": "stdin",
     "output_type": "stream",
     "text": [
      "Enter the arithmetic operations to perform:  23+45+67-34567*8765432\n"
     ]
    },
    {
     "name": "stdout",
     "output_type": "stream",
     "text": [
      "-302994687809\n"
     ]
    }
   ],
   "source": [
    "calculate = eval(input(\"Enter the arithmetic operations to perform: \"))\n",
    "\n",
    "print(calculate)"
   ]
  },
  {
   "cell_type": "code",
   "execution_count": null,
   "id": "5bf6d697-1bd5-4c7e-bbb6-d7d40039e2e5",
   "metadata": {},
   "outputs": [],
   "source": []
  },
  {
   "cell_type": "code",
   "execution_count": null,
   "id": "1ad53771-b545-4921-80a9-2d6fccc3b112",
   "metadata": {},
   "outputs": [],
   "source": []
  },
  {
   "cell_type": "code",
   "execution_count": 15,
   "id": "bf0b4660-7892-4932-a293-705cbbabacbf",
   "metadata": {},
   "outputs": [
    {
     "name": "stdout",
     "output_type": "stream",
     "text": [
      "Peter <class 'str'>\n",
      "Kayode <class 'str'>\n",
      "Peter Temitope Kayode <class 'str'>\n",
      "True <class 'bool'>\n",
      "Going to church <class 'str'>\n",
      "5 <class 'int'>\n",
      "7 <class 'int'>\n",
      "5\n",
      "6\n",
      "False\n",
      "total 10\n",
      "difference -2\n",
      "division 1.5\n",
      "remainder 4\n",
      "exp 1296\n",
      "floor division 1\n"
     ]
    }
   ],
   "source": [
    "\n",
    "# Level 1\n",
    "\n",
    "# Python variables and Constants\n",
    "\n",
    "first_name = \"Peter\"\n",
    "last_name = \"Kayode\"\n",
    "full_name = \"Peter Temitope Kayode\"\n",
    "is_light_on = True\n",
    "\n",
    "x, y, z = \"Going to church\", 5, 7\n",
    "\n",
    "# Level 2\n",
    "\n",
    "print(first_name, type(first_name))\n",
    "print(last_name, type(last_name))\n",
    "print(full_name, type(full_name))\n",
    "print(is_light_on, type(is_light_on))\n",
    "print(x, type(x))\n",
    "print(y, type(y))\n",
    "print(z, type(z))\n",
    "\n",
    "print(len(first_name))\n",
    "\n",
    "print(len(last_name))\n",
    "\n",
    "print(len(first_name) > len(last_name))\n",
    "\n",
    "num_1 = 6\n",
    "num_2 = 4\n",
    "\n",
    "total = num_1 + num_2\n",
    "print(\"total\", total)\n",
    "\n",
    "difference = num_2 - num_1\n",
    "print(\"difference\", difference)\n",
    "\n",
    "division = num_1/num_2\n",
    "print(\"division\", division)\n",
    "\n",
    "remainder = num_2 % num_1\n",
    "print(\"remainder\", remainder)\n",
    "\n",
    "exp = num_1 ** num_2\n",
    "print(\"exp\", exp)\n",
    "\n",
    "floor_division = num_1 // num_2\n",
    "print(\"floor division\", floor_division)"
   ]
  },
  {
   "cell_type": "code",
   "execution_count": null,
   "id": "162401b0-2d95-458e-849f-b865d3f98a58",
   "metadata": {},
   "outputs": [],
   "source": []
  },
  {
   "cell_type": "code",
   "execution_count": 16,
   "id": "4cb581cf-b032-4f90-a569-a48b67b9fc0d",
   "metadata": {},
   "outputs": [
    {
     "name": "stdin",
     "output_type": "stream",
     "text": [
      "Enter the radius of the circle:  34\n"
     ]
    },
    {
     "name": "stdout",
     "output_type": "stream",
     "text": [
      "Area of the circle:  3631.681107549801\n"
     ]
    }
   ],
   "source": [
    "import math\n",
    "\n",
    "radius = float(input(\"Enter the radius of the circle: \"))\n",
    "\n",
    "area_of_circle = math.pi * radius ** 2\n",
    "print(\"Area of the circle: \", area_of_circle)"
   ]
  },
  {
   "cell_type": "code",
   "execution_count": null,
   "id": "f2b5509f-df52-407e-a07a-d77d05348c4e",
   "metadata": {},
   "outputs": [],
   "source": []
  },
  {
   "cell_type": "code",
   "execution_count": 17,
   "id": "d9148566-d71b-4152-8112-beaf8ea48f6a",
   "metadata": {},
   "outputs": [
    {
     "name": "stdin",
     "output_type": "stream",
     "text": [
      "Enter the radius of the circle:  45\n"
     ]
    },
    {
     "name": "stdout",
     "output_type": "stream",
     "text": [
      "Circumference of the circle:  282.7433388230814\n"
     ]
    }
   ],
   "source": [
    "radius = float(input(\"Enter the radius of the circle: \"))\n",
    "\n",
    "circum_of_circle = 2 * math.pi * radius\n",
    "print(\"Circumference of the circle: \", circum_of_circle)"
   ]
  },
  {
   "cell_type": "code",
   "execution_count": null,
   "id": "6dbe1df4-3039-40bf-9ea7-7c3ef6ee4e02",
   "metadata": {},
   "outputs": [],
   "source": []
  },
  {
   "cell_type": "code",
   "execution_count": 18,
   "id": "1a3c3d49-085d-4532-a3ec-424ba47f0e23",
   "metadata": {},
   "outputs": [
    {
     "name": "stdin",
     "output_type": "stream",
     "text": [
      "Enter your firstname:  Peter\n",
      "Enter your lastname:  Kayode\n",
      "Enter your country name:  Nigeria\n",
      "Enter your age:  56\n"
     ]
    }
   ],
   "source": [
    "firstname = input(\"Enter your firstname: \")\n",
    "lastname = input(\"Enter your lastname: \")\n",
    "country = input(\"Enter your country name: \")\n",
    "age = int(input(\"Enter your age: \"))"
   ]
  },
  {
   "cell_type": "code",
   "execution_count": 19,
   "id": "882e9356-edc2-4b61-99e9-bbe2540a1a83",
   "metadata": {},
   "outputs": [
    {
     "name": "stdout",
     "output_type": "stream",
     "text": [
      "['False', 'None', 'True', 'and', 'as', 'assert', 'async', 'await', 'break', 'class', 'continue', 'def', 'del', 'elif', 'else', 'except', 'finally', 'for', 'from', 'global', 'if', 'import', 'in', 'is', 'lambda', 'nonlocal', 'not', 'or', 'pass', 'raise', 'return', 'try', 'while', 'with', 'yield']\n"
     ]
    }
   ],
   "source": [
    "import keyword\n",
    "\n",
    "print(keyword.kwlist)"
   ]
  },
  {
   "cell_type": "code",
   "execution_count": null,
   "id": "dd4f0db4-9c6a-409d-9740-b67a2f05a95a",
   "metadata": {},
   "outputs": [],
   "source": []
  }
 ],
 "metadata": {
  "kernelspec": {
   "display_name": "Python 3 (ipykernel)",
   "language": "python",
   "name": "python3"
  },
  "language_info": {
   "codemirror_mode": {
    "name": "ipython",
    "version": 3
   },
   "file_extension": ".py",
   "mimetype": "text/x-python",
   "name": "python",
   "nbconvert_exporter": "python",
   "pygments_lexer": "ipython3",
   "version": "3.11.7"
  }
 },
 "nbformat": 4,
 "nbformat_minor": 5
}
